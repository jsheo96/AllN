{
 "cells": [
  {
   "cell_type": "code",
   "execution_count": 8,
   "metadata": {},
   "outputs": [],
   "source": [
    "import sqlite3, json, random\n",
    "from datetime import datetime, timedelta\n",
    "from tqdm.notebook import tqdm, trange\n",
    "\n",
    "con = sqlite3.connect('test.db')\n",
    "cur = con.cursor()\n",
    "\n",
    "cur.execute('DROP TABLE IF EXISTS StockDB')\n",
    "cur.execute('CREATE TABLE StockDB \\\n",
    "    (stock_id integer PRIMARY KEY, \\\n",
    "    name text, \\\n",
    "    data text)')\n",
    "\n",
    "cur.execute('DROP TABLE IF EXISTS IssueDB')\n",
    "cur.execute('CREATE TABLE IssueDB \\\n",
    "    (issue_id integer PRIMARY KEY, \\\n",
    "    issue text, \\\n",
    "    data text)')\n",
    "\n",
    "cur.execute('DROP TABLE IF EXISTS NewsDB')\n",
    "cur.execute('CREATE TABLE NewsDB \\\n",
    "    (news_id integer PRIMARY KEY, \\\n",
    "    data text)')\n",
    "\n",
    "con.close()"
   ]
  },
  {
   "cell_type": "code",
   "execution_count": 9,
   "metadata": {},
   "outputs": [
    {
     "data": {
      "application/vnd.jupyter.widget-view+json": {
       "model_id": "8f4015e9de4f49e4aea8fa3f63aeefe8",
       "version_major": 2,
       "version_minor": 0
      },
      "text/plain": [
       "write stock_db data:   0%|          | 0/10 [00:00<?, ?it/s]"
      ]
     },
     "metadata": {},
     "output_type": "display_data"
    },
    {
     "data": {
      "application/vnd.jupyter.widget-view+json": {
       "model_id": "aa39ea1f69fe4cda95a68e102f210d3c",
       "version_major": 2,
       "version_minor": 0
      },
      "text/plain": [
       "write issue_db data:   0%|          | 0/100 [00:00<?, ?it/s]"
      ]
     },
     "metadata": {},
     "output_type": "display_data"
    },
    {
     "data": {
      "application/vnd.jupyter.widget-view+json": {
       "model_id": "90072cc463604c89a966e640265b48ac",
       "version_major": 2,
       "version_minor": 0
      },
      "text/plain": [
       "write news_db data:   0%|          | 0/2000 [00:00<?, ?it/s]"
      ]
     },
     "metadata": {},
     "output_type": "display_data"
    },
    {
     "data": {
      "application/vnd.jupyter.widget-view+json": {
       "model_id": "3890178c7efd4b1d9e62d7d2c82d42d1",
       "version_major": 2,
       "version_minor": 0
      },
      "text/plain": [
       "convert str to dict:   0%|          | 0/10 [00:00<?, ?it/s]"
      ]
     },
     "metadata": {},
     "output_type": "display_data"
    },
    {
     "data": {
      "application/vnd.jupyter.widget-view+json": {
       "model_id": "cf322965e515423e925ae8dd5266461c",
       "version_major": 2,
       "version_minor": 0
      },
      "text/plain": [
       "convert str to dict:   0%|          | 0/100 [00:00<?, ?it/s]"
      ]
     },
     "metadata": {},
     "output_type": "display_data"
    },
    {
     "data": {
      "application/vnd.jupyter.widget-view+json": {
       "model_id": "c6e9fa86dfa84129867a80d04e84ca0e",
       "version_major": 2,
       "version_minor": 0
      },
      "text/plain": [
       "convert str to dict:   0%|          | 0/2000 [00:00<?, ?it/s]"
      ]
     },
     "metadata": {},
     "output_type": "display_data"
    }
   ],
   "source": [
    "con = sqlite3.connect('test.db')\n",
    "cur = con.cursor()\n",
    "\n",
    "n_stocks = 10\n",
    "n_issues = n_stocks*10\n",
    "issue_pop = [i for i in range(n_issues)]\n",
    "n_news = n_issues*20\n",
    "news_pop = [i for i in range(n_news)]\n",
    "\n",
    "# write stock_db data \n",
    "for i in trange(n_stocks, desc='write stock_db data'):\n",
    "    name = 'stock_name_{:03d}'.format(i)\n",
    "    data = {\n",
    "        'stock_id': i,\n",
    "        'name': name,\n",
    "        'issues': sorted(random.sample(issue_pop, random.randrange(1,10))),\n",
    "    }\n",
    "    \n",
    "    query = 'INSERT INTO StockDB VALUES (:stock_id, :name, :data)'\n",
    "    parameters = {\n",
    "        'stock_id': i,\n",
    "        'name': name,\n",
    "        'data': json.dumps(data)\n",
    "    }\n",
    "    cur.execute(query, parameters)\n",
    "\n",
    "# write issue_db data \n",
    "for i in trange(n_issues, desc='write issue_db data'):\n",
    "    issue = 'this is an issue for issue_id={:03d}'.format(i)\n",
    "    date_i = datetime(random.randrange(2019,2021),random.randrange(1,13),random.randrange(1,29))\n",
    "    date_f = date_i + timedelta(days=random.randrange(10,31))\n",
    "    data = {\n",
    "        'issue_id': i,\n",
    "        'issue': issue,\n",
    "        'date_i': date_i.strftime('%Y-%m-%d'),\n",
    "        'date_f': date_f.strftime('%Y-%m-%d'),\n",
    "        'news': sorted(random.sample(news_pop, random.randrange(1,n_news//n_issues*2+1))),\n",
    "    }\n",
    "    \n",
    "    query = 'INSERT INTO IssueDB VALUES (:issue_id, :issue, :data)'\n",
    "    parameters = {\n",
    "        'issue_id': i,\n",
    "        'issue': issue,\n",
    "        'data': json.dumps(data)\n",
    "    }\n",
    "    cur.execute(query, parameters)\n",
    "\n",
    "# write news_db data \n",
    "for i in trange(n_news, desc='write news_db data'):\n",
    "    date = datetime(random.randrange(2019,2021),random.randrange(1,13),random.randrange(1,29))\n",
    "    title = 'news_title_{:03d}'.format(i)\n",
    "    data = {\n",
    "        'news_id': i,\n",
    "        'title': title,\n",
    "        'date': date_i.strftime('%Y-%m-%d'),\n",
    "        'text':  'this is a news for news_id={:03d}'.format(i),\n",
    "        'url': 'https://www.url.com/{:03d}'.format(i)\n",
    "    }\n",
    "    \n",
    "    query = 'INSERT INTO NewsDB VALUES (:news_id, :data)'\n",
    "    parameters = {\n",
    "        'news_id': i,\n",
    "        'data': json.dumps(data)\n",
    "    }\n",
    "    cur.execute(query, parameters)\n",
    "    \n",
    "con.commit()\n",
    "\n",
    "# read data and convert string to dictionary in db\n",
    "cur.execute('SELECT * FROM StockDB')\n",
    "stock_db = cur.fetchall()\n",
    "for i, element in enumerate(tqdm(stock_db, desc='convert str to dict')):\n",
    "    stock_db[i] = list(element)\n",
    "    stock_db[i][2] = json.loads(element[2])\n",
    "\n",
    "cur.execute('SELECT * FROM IssueDB')\n",
    "issue_db = cur.fetchall()\n",
    "for i, element in enumerate(tqdm(issue_db, desc='convert str to dict')):\n",
    "    issue_db[i] = list(element)\n",
    "    issue_db[i][2] = json.loads(element[2])\n",
    "\n",
    "cur.execute('SELECT * FROM NewsDB')\n",
    "news_db = cur.fetchall()\n",
    "for i, element in enumerate(tqdm(news_db, desc='convert str to dict')):\n",
    "    news_db[i] = list(element)\n",
    "    news_db[i][1] = json.loads(element[1])\n",
    "\n",
    "# write issue_db and news_db to .json file\n",
    "with open('./stock_db.json', 'w') as json_file:\n",
    "    json.dump(stock_db, json_file, indent=4)\n",
    "with open('./issue_db.json', 'w') as json_file:\n",
    "    json.dump(issue_db, json_file, indent=4)\n",
    "with open('./news_db.json', 'w') as json_file:\n",
    "    json.dump(news_db, json_file, indent=4)\n",
    "    \n",
    "con.close()"
   ]
  },
  {
   "cell_type": "code",
   "execution_count": null,
   "metadata": {},
   "outputs": [],
   "source": []
  }
 ],
 "metadata": {
  "kernelspec": {
   "display_name": "Python 3",
   "language": "python",
   "name": "python3"
  },
  "language_info": {
   "codemirror_mode": {
    "name": "ipython",
    "version": 3
   },
   "file_extension": ".py",
   "mimetype": "text/x-python",
   "name": "python",
   "nbconvert_exporter": "python",
   "pygments_lexer": "ipython3",
   "version": "3.9.0"
  }
 },
 "nbformat": 4,
 "nbformat_minor": 4
}
